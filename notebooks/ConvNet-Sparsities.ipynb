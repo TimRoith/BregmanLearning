{
 "cells": [
  {
   "cell_type": "code",
   "execution_count": 3,
   "metadata": {
    "scrolled": false,
    "ExecuteTime": {
     "end_time": "2024-01-14T13:16:28.313578400Z",
     "start_time": "2024-01-14T13:16:28.305982100Z"
    }
   },
   "outputs": [],
   "source": [
    "# Various torch packages\n",
    "import torch\n",
    "import torch.nn as nn\n",
    "import torch.nn.functional as F\n",
    "\n",
    "# torchvision\n",
    "from torchvision import datasets, transforms\n",
    "\n",
    "# ------------------------\n",
    "# get up one directory \n",
    "import sys, os\n",
    "sys.path.append(os.path.abspath('../'))\n",
    "# ------------------------\n",
    "\n",
    "# custom packages\n",
    "import matplotlib.pyplot as plt\n",
    "import models.aux_funs as maf\n",
    "import optimizers as op\n",
    "import regularizers as reg\n",
    "import train\n",
    "import math\n",
    "import utils.configuration as cf\n",
    "import utils.datasets as ud\n",
    "from models.mnist_conv import mnist_conv\n",
    "from utils.visualise import visualize_layer_weights"
   ],
   "id": "2e3c285c3f738fb4"
  },
  {
   "cell_type": "markdown",
   "metadata": {},
   "source": [
    "# Fix the random seed"
   ],
   "id": "c358bd9a28e046d4"
  },
  {
   "cell_type": "code",
   "execution_count": 4,
   "metadata": {
    "ExecuteTime": {
     "end_time": "2024-01-14T13:16:31.663102500Z",
     "start_time": "2024-01-14T13:16:31.635328500Z"
    }
   },
   "outputs": [],
   "source": [
    "random_seed = 2\n",
    "cf.seed_torch(random_seed)"
   ],
   "id": "ad39eccaef5e3443"
  },
  {
   "cell_type": "markdown",
   "metadata": {},
   "source": [
    "# Configure the experiment"
   ],
   "id": "c7687c6f50c353d"
  },
  {
   "cell_type": "code",
   "execution_count": 5,
   "metadata": {
    "scrolled": false,
    "ExecuteTime": {
     "end_time": "2024-01-14T13:16:33.719896200Z",
     "start_time": "2024-01-14T13:16:33.703258400Z"
    }
   },
   "outputs": [],
   "source": [
    "sparsities = [0.01, .05, 1, .2, .5, 1]\n",
    "\n",
    "base_args = {#\n",
    "    # data specification\n",
    "    'data_file':\"../../Data\",'train_split':0.95, 'data_set':\"Fashion-MNIST\", 'download':True,\n",
    "    # cuda\n",
    "    'use_cuda':False, 'num_workers':0, 'cuda_device':0, 'pin_memory':True,\n",
    "    #\n",
    "    'epochs':100,\n",
    "    # optimizer\n",
    "    'delta':1.0, 'lr':0.07, 'lamda_0':0.4, 'lamda_1':0.4, 'optim':\"Adam\", 'conv_group':True,\n",
    "    'beta':0.0,\n",
    "    # initialization\n",
    "    'sparse_init':0.01, 'r':[1,1,1],\n",
    "    # misc\n",
    "    'random_seed':random_seed, 'eval_acc':True,\n",
    "}\n",
    "\n",
    "args = []\n",
    "for sparsity in sparsities:\n",
    "    conf_args = base_args.copy()\n",
    "    conf_args['sparse_init'] = sparsity\n",
    "    args.append(conf_args)\n",
    "    \n",
    "confs = [cf.Conf(**conf_args) for conf_args in args]\n"
   ],
   "id": "c5a34ced5439ed04"
  },
  {
   "cell_type": "markdown",
   "metadata": {},
   "source": [
    "# Initiate the models"
   ],
   "id": "edd844407b244080"
  },
  {
   "cell_type": "code",
   "execution_count": 6,
   "metadata": {
    "scrolled": false,
    "ExecuteTime": {
     "end_time": "2024-01-14T13:16:36.173236100Z",
     "start_time": "2024-01-14T13:16:36.092979Z"
    }
   },
   "outputs": [],
   "source": [
    "kwargs = [{'mean':conf.data_set_mean, 'std':conf.data_set_std} for conf in confs]   \n",
    "\n",
    "models = [mnist_conv(**kwarg) for kwarg in kwargs]\n",
    "\n",
    "best_models = [train.best_model(mnist_conv(**kwarg).to(conf.device)) for kwarg, conf in zip(kwargs, confs)]"
   ],
   "id": "ef832d7bd29d6f53"
  },
  {
   "cell_type": "markdown",
   "metadata": {},
   "source": [
    "# Weight initializations"
   ],
   "id": "169297f3ee61b218"
  },
  {
   "cell_type": "code",
   "execution_count": 7,
   "metadata": {
    "ExecuteTime": {
     "end_time": "2024-01-14T13:16:38.394894700Z",
     "start_time": "2024-01-14T13:16:38.350168200Z"
    }
   },
   "outputs": [],
   "source": [
    "   \n",
    "def init_weights(conf, model):\n",
    "    # sparsify\n",
    "    maf.sparse_bias_uniform_(model, 0,conf.r[0])\n",
    "    maf.sparse_bias_uniform_(model, 0,conf.r[0],ltype=torch.nn.Conv2d)\n",
    "    maf.sparse_weight_normal_(model, conf.r[1])\n",
    "    maf.sparse_weight_normal_(model, conf.r[2],ltype=torch.nn.Conv2d)\n",
    "    #\n",
    "    model = model.to(conf.device)\n",
    "    \n",
    "    return model\n",
    "\n",
    "\n",
    "initialized_models = [init_weights(conf, model) for conf, model in zip(confs, models)]"
   ],
   "id": "9898fc77085ba57f"
  },
  {
   "cell_type": "markdown",
   "metadata": {},
   "source": [
    "# Optimizer"
   ],
   "id": "7a6f49bc576f014e"
  },
  {
   "cell_type": "code",
   "execution_count": 8,
   "metadata": {
    "scrolled": false,
    "ExecuteTime": {
     "end_time": "2024-01-14T13:16:40.783119800Z",
     "start_time": "2024-01-14T13:16:40.763282300Z"
    }
   },
   "outputs": [],
   "source": [
    "def init_opt(conf, model):\n",
    "    # -----------------------------------------------------------------------------------\n",
    "    # Get access to different model parameters\n",
    "    # -----------------------------------------------------------------------------------\n",
    "    weights_conv = maf.get_weights_conv(model)\n",
    "    weights_linear = maf.get_weights_linear(model)\n",
    "    biases = maf.get_bias(model)\n",
    "    \n",
    "    # -----------------------------------------------------------------------------------\n",
    "    # Initialize optimizer\n",
    "    # -----------------------------------------------------------------------------------\n",
    "    if conf.conv_group:\n",
    "        reg2 = reg.reg_l1_l2_conv(lamda=conf.lamda_0)\n",
    "    else:\n",
    "        reg2 = reg.reg_l1(lamda=conf.lamda_0)\n",
    "    \n",
    "    if conf.optim == \"SGD\":\n",
    "        opt = torch.optim.SGD(model.parameters(), lr=conf.lr, momentum=conf.beta)\n",
    "    elif conf.optim == \"LinBreg\":\n",
    "        opt = op.LinBreg([{'params': weights_conv, 'lr' : conf.lr, 'reg' : reg2, 'momentum':conf.beta,'delta':conf.delta},\n",
    "                          {'params': weights_linear, 'lr' : conf.lr, 'reg' : reg.reg_l1(lamda=conf.lamda_1), 'momentum':conf.beta,'delta':conf.delta},\n",
    "                          {'params': biases, 'lr': conf.lr, 'momentum':conf.beta}])\n",
    "    elif conf.optim == \"ProxSGD\":\n",
    "        opt = op.ProxSGD([{'params': weights_conv, 'lr' : conf.lr, 'reg' : reg2, 'momentum':conf.beta,'delta':conf.delta},\n",
    "                          {'params': weights_linear, 'lr' : conf.lr, 'reg' : reg.reg_l1(lamda=conf.lamda_1), 'momentum':conf.beta,'delta':conf.delta},\n",
    "                          {'params': biases, 'lr': conf.lr, 'momentum':conf.beta}])            \n",
    "    elif conf.optim == \"AdaBreg\":\n",
    "        opt = op.AdaBreg([{'params': weights_conv, 'lr' : conf.lr, 'reg' : reg2,'delta':conf.delta},\n",
    "                           {'params': weights_linear, 'lr' : conf.lr, 'reg' : reg.reg_l1(lamda=conf.lamda_1),'delta':conf.delta},\n",
    "                           {'params': biases, 'lr': conf.lr}])\n",
    "    elif conf.optim == \"L1SGD\":\n",
    "        def weight_reg(model):\n",
    "            reg1 =  reg.reg_l1(lamda=conf.lamda_1)\n",
    "        \n",
    "            loss1 = reg1(model.layers2[0].weight) + reg1(model.layers2[2].weight)\n",
    "            loss2 = reg2(model.layers1[0].weight) + reg2(model.layers1[3].weight)\n",
    "            return loss1 + loss2\n",
    "        \n",
    "        conf.weight_reg = weight_reg\n",
    "        \n",
    "        opt = torch.optim.SGD(model.parameters())\n",
    "    elif conf.optim == \"Adam\":\n",
    "        opt = torch.optim.Adam(model.parameters())\n",
    "    else:\n",
    "        raise ValueError(\"Unknown Optimizer specified\")\n",
    "\n",
    "    # learning rate scheduler\n",
    "    scheduler = torch.optim.lr_scheduler.ReduceLROnPlateau(opt, factor=0.5, patience=5,threshold=0.01)\n",
    "    \n",
    "    return opt, scheduler"
   ],
   "id": "330cd23b2c066995"
  },
  {
   "cell_type": "markdown",
   "metadata": {},
   "source": [
    "# Dataset"
   ],
   "id": "438b9da0c473c1cd"
  },
  {
   "cell_type": "code",
   "execution_count": 9,
   "metadata": {
    "ExecuteTime": {
     "end_time": "2024-01-14T13:16:46.124666400Z",
     "start_time": "2024-01-14T13:16:42.505587300Z"
    }
   },
   "outputs": [
    {
     "name": "stderr",
     "output_type": "stream",
     "text": [
      "0.7%"
     ]
    },
    {
     "name": "stdout",
     "output_type": "stream",
     "text": [
      "Downloading http://fashion-mnist.s3-website.eu-central-1.amazonaws.com/train-images-idx3-ubyte.gz\n",
      "Downloading http://fashion-mnist.s3-website.eu-central-1.amazonaws.com/train-images-idx3-ubyte.gz to ../../Data\\FashionMNIST\\raw\\train-images-idx3-ubyte.gz\n"
     ]
    },
    {
     "name": "stderr",
     "output_type": "stream",
     "text": [
      "100.0%\n"
     ]
    },
    {
     "name": "stdout",
     "output_type": "stream",
     "text": [
      "Extracting ../../Data\\FashionMNIST\\raw\\train-images-idx3-ubyte.gz to ../../Data\\FashionMNIST\\raw\n"
     ]
    },
    {
     "name": "stderr",
     "output_type": "stream",
     "text": [
      "100.0%"
     ]
    },
    {
     "name": "stdout",
     "output_type": "stream",
     "text": [
      "\n",
      "Downloading http://fashion-mnist.s3-website.eu-central-1.amazonaws.com/train-labels-idx1-ubyte.gz\n",
      "Downloading http://fashion-mnist.s3-website.eu-central-1.amazonaws.com/train-labels-idx1-ubyte.gz to ../../Data\\FashionMNIST\\raw\\train-labels-idx1-ubyte.gz\n",
      "Extracting ../../Data\\FashionMNIST\\raw\\train-labels-idx1-ubyte.gz to ../../Data\\FashionMNIST\\raw\n",
      "\n",
      "Downloading http://fashion-mnist.s3-website.eu-central-1.amazonaws.com/t10k-images-idx3-ubyte.gz\n"
     ]
    },
    {
     "name": "stderr",
     "output_type": "stream",
     "text": [
      "\n",
      "8.9%"
     ]
    },
    {
     "name": "stdout",
     "output_type": "stream",
     "text": [
      "Downloading http://fashion-mnist.s3-website.eu-central-1.amazonaws.com/t10k-images-idx3-ubyte.gz to ../../Data\\FashionMNIST\\raw\\t10k-images-idx3-ubyte.gz\n"
     ]
    },
    {
     "name": "stderr",
     "output_type": "stream",
     "text": [
      "100.0%\n",
      "100.0%\n"
     ]
    },
    {
     "name": "stdout",
     "output_type": "stream",
     "text": [
      "Extracting ../../Data\\FashionMNIST\\raw\\t10k-images-idx3-ubyte.gz to ../../Data\\FashionMNIST\\raw\n",
      "\n",
      "Downloading http://fashion-mnist.s3-website.eu-central-1.amazonaws.com/t10k-labels-idx1-ubyte.gz\n",
      "Downloading http://fashion-mnist.s3-website.eu-central-1.amazonaws.com/t10k-labels-idx1-ubyte.gz to ../../Data\\FashionMNIST\\raw\\t10k-labels-idx1-ubyte.gz\n",
      "Extracting ../../Data\\FashionMNIST\\raw\\t10k-labels-idx1-ubyte.gz to ../../Data\\FashionMNIST\\raw\n"
     ]
    }
   ],
   "source": [
    "# train_loader, valid_loader, test_loader = ud.get_data_set(conf)\n",
    "\n",
    "data = [ud.get_data_set(conf) for conf in confs]"
   ],
   "id": "49c8e5ed2ab52b34"
  },
  {
   "cell_type": "markdown",
   "metadata": {},
   "source": [
    "# History and Runs"
   ],
   "id": "603950408214dc4d"
  },
  {
   "cell_type": "code",
   "execution_count": 10,
   "metadata": {
    "ExecuteTime": {
     "end_time": "2024-01-14T13:16:54.814733100Z",
     "start_time": "2024-01-14T13:16:54.806685900Z"
    }
   },
   "outputs": [],
   "source": [
    "# Initialize history\n",
    "tracked = ['loss', 'node_sparse']\n",
    "# train_hist = {}\n",
    "# val_hist = {}\n",
    "\n",
    "train_hists = [{} for conf in confs]\n",
    "val_hists = [{} for conf in confs]"
   ],
   "id": "c9e971bc87099a52"
  },
  {
   "cell_type": "code",
   "execution_count": null,
   "outputs": [
    {
     "name": "stdout",
     "output_type": "stream",
     "text": [
      "Sparsity: 0.01\n",
      "<><><><><><><><><><><><><><><><><><><><><><><><><>\n",
      "||||||||||||||||||||||||||||||||||||||||||||||||||\n",
      "<><><><><><><><><><><><><><><><><><><><><><><><><>\n",
      "Epoch: 0\n",
      "--------------------------------------------------\n",
      "Train Accuracy: 0.8227543859649122\n",
      "Train Loss: 219.97931899130344\n",
      "--------------------------------------------------\n",
      "Validation Accuracy: 0.855\n",
      "Non-zero kernels: 1.0\n",
      "Linear sparsity: 1.0\n",
      "Overall sparsity: 1.0\n",
      "Node sparsity: [1.0, 1.0]\n",
      "Regularization values per group: []\n",
      "Learning rate: 0.001\n",
      "<><><><><><><><><><><><><><><><><><><><><><><><><>\n",
      "||||||||||||||||||||||||||||||||||||||||||||||||||\n",
      "<><><><><><><><><><><><><><><><><><><><><><><><><>\n",
      "Epoch: 1\n",
      "--------------------------------------------------\n",
      "Train Accuracy: 0.8835087719298246\n",
      "Train Loss: 143.57688109576702\n",
      "--------------------------------------------------\n",
      "Validation Accuracy: 0.8813333333333333\n",
      "Non-zero kernels: 1.0\n",
      "Linear sparsity: 1.0\n",
      "Overall sparsity: 1.0\n",
      "Node sparsity: [1.0, 1.0]\n",
      "Regularization values per group: []\n",
      "Learning rate: 0.001\n",
      "<><><><><><><><><><><><><><><><><><><><><><><><><>\n",
      "||||||||||||||||||||||||||||||||||||||||||||||||||\n",
      "<><><><><><><><><><><><><><><><><><><><><><><><><>\n",
      "Epoch: 2\n",
      "--------------------------------------------------\n",
      "Train Accuracy: 0.9026666666666666\n",
      "Train Loss: 120.43006214499474\n",
      "--------------------------------------------------\n",
      "Validation Accuracy: 0.8873333333333333\n",
      "Non-zero kernels: 1.0\n",
      "Linear sparsity: 1.0\n",
      "Overall sparsity: 1.0\n",
      "Node sparsity: [1.0, 1.0]\n",
      "Regularization values per group: []\n",
      "Learning rate: 0.001\n",
      "<><><><><><><><><><><><><><><><><><><><><><><><><>\n",
      "||||||||||||||||||||||||||||||||||||||||||||||||||\n",
      "<><><><><><><><><><><><><><><><><><><><><><><><><>\n",
      "Epoch: 3\n",
      "--------------------------------------------------\n",
      "Train Accuracy: 0.914719298245614\n",
      "Train Loss: 105.73922647535801\n",
      "--------------------------------------------------\n",
      "Validation Accuracy: 0.893\n",
      "Non-zero kernels: 1.0\n",
      "Linear sparsity: 1.0\n",
      "Overall sparsity: 1.0\n",
      "Node sparsity: [1.0, 1.0]\n",
      "Regularization values per group: []\n",
      "Learning rate: 0.001\n",
      "<><><><><><><><><><><><><><><><><><><><><><><><><>\n",
      "||||||||||||||||||||||||||||||||||||||||||||||||||\n",
      "<><><><><><><><><><><><><><><><><><><><><><><><><>\n",
      "Epoch: 4\n",
      "--------------------------------------------------\n",
      "Train Accuracy: 0.9201929824561403\n",
      "Train Loss: 97.55668344348669\n",
      "--------------------------------------------------\n",
      "Validation Accuracy: 0.8903333333333333\n",
      "Non-zero kernels: 1.0\n",
      "Linear sparsity: 1.0\n",
      "Overall sparsity: 1.0\n",
      "Node sparsity: [1.0, 1.0]\n",
      "Regularization values per group: []\n",
      "Learning rate: 0.001\n",
      "<><><><><><><><><><><><><><><><><><><><><><><><><>\n",
      "||||||||||||||||||||||||||||||||||||||||||||||||||\n",
      "<><><><><><><><><><><><><><><><><><><><><><><><><>\n",
      "Epoch: 5\n",
      "--------------------------------------------------\n",
      "Train Accuracy: 0.9273684210526316\n",
      "Train Loss: 88.11348901689053\n",
      "--------------------------------------------------\n",
      "Validation Accuracy: 0.9013333333333333\n",
      "Non-zero kernels: 1.0\n",
      "Linear sparsity: 1.0\n",
      "Overall sparsity: 1.0\n",
      "Node sparsity: [1.0, 1.0]\n",
      "Regularization values per group: []\n",
      "Learning rate: 0.001\n",
      "<><><><><><><><><><><><><><><><><><><><><><><><><>\n",
      "||||||||||||||||||||||||||||||||||||||||||||||||||\n",
      "<><><><><><><><><><><><><><><><><><><><><><><><><>\n",
      "Epoch: 6\n",
      "--------------------------------------------------\n",
      "Train Accuracy: 0.9360701754385965\n",
      "Train Loss: 78.09963505715132\n",
      "--------------------------------------------------\n",
      "Validation Accuracy: 0.9066666666666666\n",
      "Non-zero kernels: 1.0\n",
      "Linear sparsity: 1.0\n",
      "Overall sparsity: 1.0\n",
      "Node sparsity: [1.0, 1.0]\n",
      "Regularization values per group: []\n",
      "Learning rate: 0.001\n",
      "<><><><><><><><><><><><><><><><><><><><><><><><><>\n",
      "||||||||||||||||||||||||||||||||||||||||||||||||||\n",
      "<><><><><><><><><><><><><><><><><><><><><><><><><>\n",
      "Epoch: 7\n",
      "--------------------------------------------------\n",
      "Train Accuracy: 0.9409473684210526\n",
      "Train Loss: 71.13932066783309\n",
      "--------------------------------------------------\n",
      "Validation Accuracy: 0.8956666666666667\n",
      "Non-zero kernels: 1.0\n",
      "Linear sparsity: 1.0\n",
      "Overall sparsity: 1.0\n",
      "Node sparsity: [1.0, 1.0]\n",
      "Regularization values per group: []\n",
      "Learning rate: 0.001\n",
      "<><><><><><><><><><><><><><><><><><><><><><><><><>\n",
      "||||||||||||||||||||||||||||||||||||||||||||||||||\n",
      "<><><><><><><><><><><><><><><><><><><><><><><><><>\n",
      "Epoch: 8\n",
      "--------------------------------------------------\n",
      "Train Accuracy: 0.9463333333333334\n",
      "Train Loss: 64.92494993284345\n",
      "--------------------------------------------------\n",
      "Validation Accuracy: 0.9013333333333333\n",
      "Non-zero kernels: 1.0\n",
      "Linear sparsity: 1.0\n",
      "Overall sparsity: 1.0\n",
      "Node sparsity: [1.0, 1.0]\n",
      "Regularization values per group: []\n",
      "Learning rate: 0.001\n",
      "<><><><><><><><><><><><><><><><><><><><><><><><><>\n",
      "||||||||||||||||||||||||||||||||||||||||||||||||||\n",
      "<><><><><><><><><><><><><><><><><><><><><><><><><>\n",
      "Epoch: 9\n",
      "--------------------------------------------------\n",
      "Train Accuracy: 0.9530350877192982\n",
      "Train Loss: 56.577048275619745\n",
      "--------------------------------------------------\n",
      "Validation Accuracy: 0.9006666666666666\n",
      "Non-zero kernels: 1.0\n",
      "Linear sparsity: 1.0\n",
      "Overall sparsity: 1.0\n",
      "Node sparsity: [1.0, 1.0]\n",
      "Regularization values per group: []\n",
      "Learning rate: 0.001\n",
      "<><><><><><><><><><><><><><><><><><><><><><><><><>\n",
      "||||||||||||||||||||||||||||||||||||||||||||||||||\n",
      "<><><><><><><><><><><><><><><><><><><><><><><><><>\n",
      "Epoch: 10\n",
      "--------------------------------------------------\n",
      "Train Accuracy: 0.9571929824561404\n",
      "Train Loss: 51.389151848852634\n",
      "--------------------------------------------------\n",
      "Validation Accuracy: 0.909\n",
      "Non-zero kernels: 1.0\n",
      "Linear sparsity: 1.0\n",
      "Overall sparsity: 1.0\n",
      "Node sparsity: [1.0, 1.0]\n",
      "Regularization values per group: []\n",
      "Learning rate: 0.001\n",
      "<><><><><><><><><><><><><><><><><><><><><><><><><>\n",
      "||||||||||||||||||||||||||||||||||||||||||||||||||\n",
      "<><><><><><><><><><><><><><><><><><><><><><><><><>\n",
      "Epoch: 11\n",
      "--------------------------------------------------\n",
      "Train Accuracy: 0.9626315789473684\n",
      "Train Loss: 44.90497634187341\n",
      "--------------------------------------------------\n",
      "Validation Accuracy: 0.9063333333333333\n",
      "Non-zero kernels: 1.0\n",
      "Linear sparsity: 1.0\n",
      "Overall sparsity: 1.0\n",
      "Node sparsity: [1.0, 1.0]\n",
      "Regularization values per group: []\n",
      "Learning rate: 0.001\n",
      "<><><><><><><><><><><><><><><><><><><><><><><><><>\n",
      "||||||||||||||||||||||||||||||||||||||||||||||||||\n",
      "<><><><><><><><><><><><><><><><><><><><><><><><><>\n",
      "Epoch: 12\n",
      "--------------------------------------------------\n",
      "Train Accuracy: 0.9643684210526315\n",
      "Train Loss: 42.42948257923126\n",
      "--------------------------------------------------\n",
      "Validation Accuracy: 0.902\n",
      "Non-zero kernels: 1.0\n",
      "Linear sparsity: 1.0\n",
      "Overall sparsity: 1.0\n",
      "Node sparsity: [1.0, 1.0]\n",
      "Regularization values per group: []\n",
      "Learning rate: 0.001\n",
      "<><><><><><><><><><><><><><><><><><><><><><><><><>\n",
      "||||||||||||||||||||||||||||||||||||||||||||||||||\n",
      "<><><><><><><><><><><><><><><><><><><><><><><><><>\n",
      "Epoch: 13\n",
      "--------------------------------------------------\n",
      "Train Accuracy: 0.9695964912280701\n",
      "Train Loss: 36.9885713243857\n",
      "--------------------------------------------------\n",
      "Validation Accuracy: 0.909\n",
      "Non-zero kernels: 1.0\n",
      "Linear sparsity: 1.0\n",
      "Overall sparsity: 1.0\n",
      "Node sparsity: [1.0, 1.0]\n",
      "Regularization values per group: []\n",
      "Learning rate: 0.001\n",
      "<><><><><><><><><><><><><><><><><><><><><><><><><>\n",
      "||||||||||||||||||||||||||||||||||||||||||||||||||\n",
      "<><><><><><><><><><><><><><><><><><><><><><><><><>\n",
      "Epoch: 14\n"
     ]
    }
   ],
   "source": [
    "for index in range(len(confs)):\n",
    "    sparsity = sparsities[index]\n",
    "    print('Sparsity:', sparsity)\n",
    "    conf = confs[index]\n",
    "    model = initialized_models[index]\n",
    "    best_model = best_models[index]\n",
    "    opt, scheduler = init_opt(conf, model)\n",
    "    train_loader, valid_loader, test_loader = data[index]\n",
    "    train_hist = train_hists[index]\n",
    "    val_hist = val_hists[index]\n",
    "\n",
    "    # train the model\n",
    "    for epoch in range(conf.epochs):\n",
    "        print(25*\"<>\")\n",
    "        print(50*\"|\")\n",
    "        print(25*\"<>\")\n",
    "        print('Epoch:', epoch)\n",
    "    \n",
    "        # ------------------------------------------------------------------------\n",
    "        # train step, log the accuracy and loss\n",
    "        # ------------------------------------------------------------------------\n",
    "        train_data = train.train_step(conf, model, opt, train_loader)\n",
    "    \n",
    "        # update history\n",
    "        for key in tracked:\n",
    "            if key in train_data:\n",
    "                var_list = train_hist.setdefault(key, [])\n",
    "                var_list.append(train_data[key])           \n",
    "    \n",
    "        # ------------------------------------------------------------------------\n",
    "        # validation step\n",
    "        val_data = train.validation_step(conf, model, opt, valid_loader)\n",
    "    \n",
    "        # update validation history\n",
    "        for key in tracked:\n",
    "            if key in val_data:\n",
    "                var = val_data[key]\n",
    "                if isinstance(var, list):\n",
    "                    for i, var_loc in enumerate(var):\n",
    "                        key_loc = key+\"_\" + str(i)\n",
    "                        var_list = val_hist.setdefault(key_loc, [])\n",
    "                        val_hist[key_loc].append(var_loc)\n",
    "                else:\n",
    "                    var_list = val_hist.setdefault(key, [])\n",
    "                    var_list.append(var)   \n",
    "    \n",
    "    \n",
    "        scheduler.step(train_data['loss'])\n",
    "        print(\"Learning rate:\",opt.param_groups[0]['lr'])\n",
    "        best_model(train_data['acc'], val_data['acc'], model=model)\n",
    "    "
   ],
   "metadata": {
    "collapsed": false,
    "is_executing": true,
    "ExecuteTime": {
     "start_time": "2024-01-14T13:16:58.232965100Z"
    }
   },
   "id": "bf4b5d4460e8103f"
  },
  {
   "cell_type": "markdown",
   "metadata": {},
   "source": [
    "# Training"
   ],
   "id": "15a7846fe5785b87"
  },
  {
   "cell_type": "code",
   "execution_count": 62,
   "metadata": {
    "scrolled": true,
    "ExecuteTime": {
     "end_time": "2024-01-02T17:23:31.765463Z",
     "start_time": "2024-01-02T17:16:38.153773Z"
    }
   },
   "outputs": [
    {
     "name": "stdout",
     "output_type": "stream",
     "text": [
      "<><><><><><><><><><><><><><><><><><><><><><><><><>\n",
      "||||||||||||||||||||||||||||||||||||||||||||||||||\n",
      "<><><><><><><><><><><><><><><><><><><><><><><><><>\n",
      "Epoch: 0\n",
      "--------------------------------------------------\n",
      "Train Accuracy: 0.8167017543859649\n",
      "Train Loss: 228.7965146303177\n",
      "--------------------------------------------------\n",
      "Validation Accuracy: 0.8473333333333334\n",
      "Non-zero kernels: 1.0\n",
      "Linear sparsity: 1.0\n",
      "Overall sparsity: 1.0\n",
      "Node sparsity: [1.0, 1.0]\n",
      "Regularization values per group: []\n",
      "Learning rate: 0.001\n",
      "<><><><><><><><><><><><><><><><><><><><><><><><><>\n",
      "||||||||||||||||||||||||||||||||||||||||||||||||||\n",
      "<><><><><><><><><><><><><><><><><><><><><><><><><>\n",
      "Epoch: 1\n",
      "--------------------------------------------------\n",
      "Train Accuracy: 0.8825964912280702\n",
      "Train Loss: 146.3757649511099\n",
      "--------------------------------------------------\n",
      "Validation Accuracy: 0.8816666666666667\n",
      "Non-zero kernels: 1.0\n",
      "Linear sparsity: 1.0\n",
      "Overall sparsity: 1.0\n",
      "Node sparsity: [1.0, 1.0]\n",
      "Regularization values per group: []\n",
      "Learning rate: 0.001\n",
      "<><><><><><><><><><><><><><><><><><><><><><><><><>\n",
      "||||||||||||||||||||||||||||||||||||||||||||||||||\n",
      "<><><><><><><><><><><><><><><><><><><><><><><><><>\n",
      "Epoch: 2\n",
      "--------------------------------------------------\n",
      "Train Accuracy: 0.9009473684210526\n",
      "Train Loss: 122.81754703819752\n",
      "--------------------------------------------------\n",
      "Validation Accuracy: 0.8846666666666667\n",
      "Non-zero kernels: 1.0\n",
      "Linear sparsity: 1.0\n",
      "Overall sparsity: 1.0\n",
      "Node sparsity: [1.0, 1.0]\n",
      "Regularization values per group: []\n",
      "Learning rate: 0.001\n",
      "<><><><><><><><><><><><><><><><><><><><><><><><><>\n",
      "||||||||||||||||||||||||||||||||||||||||||||||||||\n",
      "<><><><><><><><><><><><><><><><><><><><><><><><><>\n",
      "Epoch: 3\n",
      "--------------------------------------------------\n",
      "Train Accuracy: 0.9093333333333333\n",
      "Train Loss: 110.85124590992928\n",
      "--------------------------------------------------\n",
      "Validation Accuracy: 0.8823333333333333\n",
      "Non-zero kernels: 1.0\n",
      "Linear sparsity: 1.0\n",
      "Overall sparsity: 1.0\n",
      "Node sparsity: [1.0, 1.0]\n",
      "Regularization values per group: []\n",
      "Learning rate: 0.001\n",
      "<><><><><><><><><><><><><><><><><><><><><><><><><>\n",
      "||||||||||||||||||||||||||||||||||||||||||||||||||\n",
      "<><><><><><><><><><><><><><><><><><><><><><><><><>\n",
      "Epoch: 4\n",
      "--------------------------------------------------\n",
      "Train Accuracy: 0.9192807017543859\n",
      "Train Loss: 98.9993152320385\n",
      "--------------------------------------------------\n",
      "Validation Accuracy: 0.8923333333333333\n",
      "Non-zero kernels: 1.0\n",
      "Linear sparsity: 1.0\n",
      "Overall sparsity: 1.0\n",
      "Node sparsity: [1.0, 1.0]\n",
      "Regularization values per group: []\n",
      "Learning rate: 0.001\n",
      "<><><><><><><><><><><><><><><><><><><><><><><><><>\n",
      "||||||||||||||||||||||||||||||||||||||||||||||||||\n",
      "<><><><><><><><><><><><><><><><><><><><><><><><><>\n",
      "Epoch: 5\n",
      "--------------------------------------------------\n",
      "Train Accuracy: 0.927\n",
      "Train Loss: 88.40111008286476\n",
      "--------------------------------------------------\n",
      "Validation Accuracy: 0.901\n",
      "Non-zero kernels: 1.0\n",
      "Linear sparsity: 1.0\n",
      "Overall sparsity: 1.0\n",
      "Node sparsity: [1.0, 1.0]\n",
      "Regularization values per group: []\n",
      "Learning rate: 0.001\n",
      "<><><><><><><><><><><><><><><><><><><><><><><><><>\n",
      "||||||||||||||||||||||||||||||||||||||||||||||||||\n",
      "<><><><><><><><><><><><><><><><><><><><><><><><><>\n",
      "Epoch: 6\n",
      "--------------------------------------------------\n",
      "Train Accuracy: 0.9335614035087719\n",
      "Train Loss: 80.47893210500479\n",
      "--------------------------------------------------\n",
      "Validation Accuracy: 0.904\n",
      "Non-zero kernels: 1.0\n",
      "Linear sparsity: 1.0\n",
      "Overall sparsity: 1.0\n",
      "Node sparsity: [1.0, 1.0]\n",
      "Regularization values per group: []\n",
      "Learning rate: 0.001\n",
      "<><><><><><><><><><><><><><><><><><><><><><><><><>\n",
      "||||||||||||||||||||||||||||||||||||||||||||||||||\n",
      "<><><><><><><><><><><><><><><><><><><><><><><><><>\n",
      "Epoch: 7\n",
      "--------------------------------------------------\n",
      "Train Accuracy: 0.9411754385964912\n",
      "Train Loss: 71.54630680754781\n",
      "--------------------------------------------------\n",
      "Validation Accuracy: 0.8976666666666666\n",
      "Non-zero kernels: 1.0\n",
      "Linear sparsity: 1.0\n",
      "Overall sparsity: 1.0\n",
      "Node sparsity: [1.0, 1.0]\n",
      "Regularization values per group: []\n",
      "Learning rate: 0.001\n",
      "<><><><><><><><><><><><><><><><><><><><><><><><><>\n",
      "||||||||||||||||||||||||||||||||||||||||||||||||||\n",
      "<><><><><><><><><><><><><><><><><><><><><><><><><>\n",
      "Epoch: 8\n",
      "--------------------------------------------------\n",
      "Train Accuracy: 0.9454561403508772\n",
      "Train Loss: 66.14603755250573\n",
      "--------------------------------------------------\n",
      "Validation Accuracy: 0.8973333333333333\n",
      "Non-zero kernels: 1.0\n",
      "Linear sparsity: 1.0\n",
      "Overall sparsity: 1.0\n",
      "Node sparsity: [1.0, 1.0]\n",
      "Regularization values per group: []\n",
      "Learning rate: 0.001\n",
      "<><><><><><><><><><><><><><><><><><><><><><><><><>\n",
      "||||||||||||||||||||||||||||||||||||||||||||||||||\n",
      "<><><><><><><><><><><><><><><><><><><><><><><><><>\n",
      "Epoch: 9\n",
      "--------------------------------------------------\n",
      "Train Accuracy: 0.9505614035087719\n",
      "Train Loss: 59.83705270662904\n",
      "--------------------------------------------------\n",
      "Validation Accuracy: 0.9046666666666666\n",
      "Non-zero kernels: 1.0\n",
      "Linear sparsity: 1.0\n",
      "Overall sparsity: 1.0\n",
      "Node sparsity: [1.0, 1.0]\n",
      "Regularization values per group: []\n",
      "Learning rate: 0.001\n",
      "<><><><><><><><><><><><><><><><><><><><><><><><><>\n",
      "||||||||||||||||||||||||||||||||||||||||||||||||||\n",
      "<><><><><><><><><><><><><><><><><><><><><><><><><>\n",
      "Epoch: 10\n",
      "--------------------------------------------------\n",
      "Train Accuracy: 0.9558245614035088\n",
      "Train Loss: 53.64296642318368\n",
      "--------------------------------------------------\n",
      "Validation Accuracy: 0.8986666666666666\n",
      "Non-zero kernels: 1.0\n",
      "Linear sparsity: 1.0\n",
      "Overall sparsity: 1.0\n",
      "Node sparsity: [1.0, 1.0]\n",
      "Regularization values per group: []\n",
      "Learning rate: 0.001\n",
      "<><><><><><><><><><><><><><><><><><><><><><><><><>\n",
      "||||||||||||||||||||||||||||||||||||||||||||||||||\n",
      "<><><><><><><><><><><><><><><><><><><><><><><><><>\n",
      "Epoch: 11\n",
      "--------------------------------------------------\n",
      "Train Accuracy: 0.9610175438596491\n",
      "Train Loss: 47.685346806421876\n",
      "--------------------------------------------------\n",
      "Validation Accuracy: 0.8936666666666667\n",
      "Non-zero kernels: 1.0\n",
      "Linear sparsity: 1.0\n",
      "Overall sparsity: 1.0\n",
      "Node sparsity: [1.0, 1.0]\n",
      "Regularization values per group: []\n",
      "Learning rate: 0.001\n",
      "<><><><><><><><><><><><><><><><><><><><><><><><><>\n",
      "||||||||||||||||||||||||||||||||||||||||||||||||||\n",
      "<><><><><><><><><><><><><><><><><><><><><><><><><>\n",
      "Epoch: 12\n"
     ]
    },
    {
     "ename": "KeyboardInterrupt",
     "evalue": "",
     "output_type": "error",
     "traceback": [
      "\u001B[0;31m---------------------------------------------------------------------------\u001B[0m",
      "\u001B[0;31mKeyboardInterrupt\u001B[0m                         Traceback (most recent call last)",
      "Cell \u001B[0;32mIn[62], line 19\u001B[0m\n\u001B[1;32m     14\u001B[0m \u001B[38;5;28mprint\u001B[39m(\u001B[38;5;124m'\u001B[39m\u001B[38;5;124mEpoch:\u001B[39m\u001B[38;5;124m'\u001B[39m, epoch)\n\u001B[1;32m     16\u001B[0m \u001B[38;5;66;03m# ------------------------------------------------------------------------\u001B[39;00m\n\u001B[1;32m     17\u001B[0m \u001B[38;5;66;03m# train step, log the accuracy and loss\u001B[39;00m\n\u001B[1;32m     18\u001B[0m \u001B[38;5;66;03m# ------------------------------------------------------------------------\u001B[39;00m\n\u001B[0;32m---> 19\u001B[0m train_data \u001B[38;5;241m=\u001B[39m \u001B[43mtrain\u001B[49m\u001B[38;5;241;43m.\u001B[39;49m\u001B[43mtrain_step\u001B[49m\u001B[43m(\u001B[49m\u001B[43mconf\u001B[49m\u001B[43m,\u001B[49m\u001B[43m \u001B[49m\u001B[43mmodel\u001B[49m\u001B[43m,\u001B[49m\u001B[43m \u001B[49m\u001B[43mopt\u001B[49m\u001B[43m,\u001B[49m\u001B[43m \u001B[49m\u001B[43mtrain_loader\u001B[49m\u001B[43m)\u001B[49m\n\u001B[1;32m     21\u001B[0m \u001B[38;5;66;03m# update history\u001B[39;00m\n\u001B[1;32m     22\u001B[0m \u001B[38;5;28;01mfor\u001B[39;00m key \u001B[38;5;129;01min\u001B[39;00m tracked:\n",
      "File \u001B[0;32m~/Projects/BregmanLearning/train.py:22\u001B[0m, in \u001B[0;36mtrain_step\u001B[0;34m(conf, model, opt, train_loader, verbosity)\u001B[0m\n\u001B[1;32m     18\u001B[0m \u001B[38;5;28;01mif\u001B[39;00m \u001B[38;5;28mhasattr\u001B[39m(conf,\u001B[38;5;124m\"\u001B[39m\u001B[38;5;124mweight_reg\u001B[39m\u001B[38;5;124m\"\u001B[39m):\n\u001B[1;32m     19\u001B[0m     loss \u001B[38;5;241m+\u001B[39m\u001B[38;5;241m=\u001B[39m conf\u001B[38;5;241m.\u001B[39mweight_reg(model)\n\u001B[0;32m---> 22\u001B[0m \u001B[43mloss\u001B[49m\u001B[38;5;241;43m.\u001B[39;49m\u001B[43mbackward\u001B[49m\u001B[43m(\u001B[49m\u001B[43m)\u001B[49m\n\u001B[1;32m     23\u001B[0m opt\u001B[38;5;241m.\u001B[39mstep()\n\u001B[1;32m     25\u001B[0m \u001B[38;5;66;03m# for classification tasks we want to evaluate the accuracy\u001B[39;00m\n",
      "File \u001B[0;32m~/Projects/BregmanLearning/venv/lib/python3.8/site-packages/torch/_tensor.py:492\u001B[0m, in \u001B[0;36mTensor.backward\u001B[0;34m(self, gradient, retain_graph, create_graph, inputs)\u001B[0m\n\u001B[1;32m    482\u001B[0m \u001B[38;5;28;01mif\u001B[39;00m has_torch_function_unary(\u001B[38;5;28mself\u001B[39m):\n\u001B[1;32m    483\u001B[0m     \u001B[38;5;28;01mreturn\u001B[39;00m handle_torch_function(\n\u001B[1;32m    484\u001B[0m         Tensor\u001B[38;5;241m.\u001B[39mbackward,\n\u001B[1;32m    485\u001B[0m         (\u001B[38;5;28mself\u001B[39m,),\n\u001B[0;32m   (...)\u001B[0m\n\u001B[1;32m    490\u001B[0m         inputs\u001B[38;5;241m=\u001B[39minputs,\n\u001B[1;32m    491\u001B[0m     )\n\u001B[0;32m--> 492\u001B[0m \u001B[43mtorch\u001B[49m\u001B[38;5;241;43m.\u001B[39;49m\u001B[43mautograd\u001B[49m\u001B[38;5;241;43m.\u001B[39;49m\u001B[43mbackward\u001B[49m\u001B[43m(\u001B[49m\n\u001B[1;32m    493\u001B[0m \u001B[43m    \u001B[49m\u001B[38;5;28;43mself\u001B[39;49m\u001B[43m,\u001B[49m\u001B[43m \u001B[49m\u001B[43mgradient\u001B[49m\u001B[43m,\u001B[49m\u001B[43m \u001B[49m\u001B[43mretain_graph\u001B[49m\u001B[43m,\u001B[49m\u001B[43m \u001B[49m\u001B[43mcreate_graph\u001B[49m\u001B[43m,\u001B[49m\u001B[43m \u001B[49m\u001B[43minputs\u001B[49m\u001B[38;5;241;43m=\u001B[39;49m\u001B[43minputs\u001B[49m\n\u001B[1;32m    494\u001B[0m \u001B[43m\u001B[49m\u001B[43m)\u001B[49m\n",
      "File \u001B[0;32m~/Projects/BregmanLearning/venv/lib/python3.8/site-packages/torch/autograd/__init__.py:251\u001B[0m, in \u001B[0;36mbackward\u001B[0;34m(tensors, grad_tensors, retain_graph, create_graph, grad_variables, inputs)\u001B[0m\n\u001B[1;32m    246\u001B[0m     retain_graph \u001B[38;5;241m=\u001B[39m create_graph\n\u001B[1;32m    248\u001B[0m \u001B[38;5;66;03m# The reason we repeat the same comment below is that\u001B[39;00m\n\u001B[1;32m    249\u001B[0m \u001B[38;5;66;03m# some Python versions print out the first line of a multi-line function\u001B[39;00m\n\u001B[1;32m    250\u001B[0m \u001B[38;5;66;03m# calls in the traceback and some print out the last line\u001B[39;00m\n\u001B[0;32m--> 251\u001B[0m \u001B[43mVariable\u001B[49m\u001B[38;5;241;43m.\u001B[39;49m\u001B[43m_execution_engine\u001B[49m\u001B[38;5;241;43m.\u001B[39;49m\u001B[43mrun_backward\u001B[49m\u001B[43m(\u001B[49m\u001B[43m  \u001B[49m\u001B[38;5;66;43;03m# Calls into the C++ engine to run the backward pass\u001B[39;49;00m\n\u001B[1;32m    252\u001B[0m \u001B[43m    \u001B[49m\u001B[43mtensors\u001B[49m\u001B[43m,\u001B[49m\n\u001B[1;32m    253\u001B[0m \u001B[43m    \u001B[49m\u001B[43mgrad_tensors_\u001B[49m\u001B[43m,\u001B[49m\n\u001B[1;32m    254\u001B[0m \u001B[43m    \u001B[49m\u001B[43mretain_graph\u001B[49m\u001B[43m,\u001B[49m\n\u001B[1;32m    255\u001B[0m \u001B[43m    \u001B[49m\u001B[43mcreate_graph\u001B[49m\u001B[43m,\u001B[49m\n\u001B[1;32m    256\u001B[0m \u001B[43m    \u001B[49m\u001B[43minputs\u001B[49m\u001B[43m,\u001B[49m\n\u001B[1;32m    257\u001B[0m \u001B[43m    \u001B[49m\u001B[43mallow_unreachable\u001B[49m\u001B[38;5;241;43m=\u001B[39;49m\u001B[38;5;28;43;01mTrue\u001B[39;49;00m\u001B[43m,\u001B[49m\n\u001B[1;32m    258\u001B[0m \u001B[43m    \u001B[49m\u001B[43maccumulate_grad\u001B[49m\u001B[38;5;241;43m=\u001B[39;49m\u001B[38;5;28;43;01mTrue\u001B[39;49;00m\u001B[43m,\u001B[49m\n\u001B[1;32m    259\u001B[0m \u001B[43m\u001B[49m\u001B[43m)\u001B[49m\n",
      "\u001B[0;31mKeyboardInterrupt\u001B[0m: "
     ]
    }
   ],
   "source": [
    "# # -----------------------------------------------------------------------------------\n",
    "# # Reinit weigts and the corresponding optimizer\n",
    "# # -----------------------------------------------------------------------------------\n",
    "# model = init_weights(conf, model)\n",
    "# opt, scheduler = init_opt(conf, model)\n",
    "# \n",
    "# # -----------------------------------------------------------------------------------\n",
    "# # train the model\n",
    "# # -----------------------------------------------------------------------------------\n",
    "# for epoch in range(conf.epochs):\n",
    "#     print(25*\"<>\")\n",
    "#     print(50*\"|\")\n",
    "#     print(25*\"<>\")\n",
    "#     print('Epoch:', epoch)\n",
    "# \n",
    "#     # ------------------------------------------------------------------------\n",
    "#     # train step, log the accuracy and loss\n",
    "#     # ------------------------------------------------------------------------\n",
    "#     train_data = train.train_step(conf, model, opt, train_loader)\n",
    "# \n",
    "#     # update history\n",
    "#     for key in tracked:\n",
    "#         if key in train_data:\n",
    "#             var_list = train_hist.setdefault(key, [])\n",
    "#             var_list.append(train_data[key])           \n",
    "# \n",
    "#     # ------------------------------------------------------------------------\n",
    "#     # validation step\n",
    "#     val_data = train.validation_step(conf, model, opt, valid_loader)\n",
    "# \n",
    "#     # update validation history\n",
    "#     for key in tracked:\n",
    "#         if key in val_data:\n",
    "#             var = val_data[key]\n",
    "#             if isinstance(var, list):\n",
    "#                 for i, var_loc in enumerate(var):\n",
    "#                     key_loc = key+\"_\" + str(i)\n",
    "#                     var_list = val_hist.setdefault(key_loc, [])\n",
    "#                     val_hist[key_loc].append(var_loc)\n",
    "#             else:\n",
    "#                 var_list = val_hist.setdefault(key, [])\n",
    "#                 var_list.append(var)   \n",
    "# \n",
    "# \n",
    "#     scheduler.step(train_data['loss'])\n",
    "#     print(\"Learning rate:\",opt.param_groups[0]['lr'])\n",
    "#     best_model(train_data['acc'], val_data['acc'], model=model)"
   ],
   "id": "29bb1b3ad027c135"
  },
  {
   "cell_type": "code",
   "outputs": [],
   "source": [
    "# Save Model\n",
    "for index, sparsity in enumerate(sparsities):\n",
    "    print('Sparsity:', sparsity)\n",
    "    best_model = best_models[index]\n",
    "    conf = confs[index]\n",
    "    test_loader = data[index][2]\n",
    "    \n",
    "    model = best_model.best_model\n",
    "    \n",
    "    torch.save(model.state_dict(), f'../checkpoints/mnist_conv_{sparsity}.pth')\n",
    "    \n",
    "    print('Evaluate')\n",
    "    model.eval()\n",
    "    print('Test')\n",
    "    train.test(conf, model, test_loader)\n",
    "    print('-'*50)"
   ],
   "metadata": {
    "collapsed": false,
    "ExecuteTime": {
     "end_time": "2024-01-02T17:29:36.930471Z",
     "start_time": "2024-01-02T17:29:36.923599Z"
    }
   },
   "id": "4bcb380f2048be82",
   "execution_count": 68
  },
  {
   "cell_type": "code",
   "outputs": [
    {
     "data": {
      "text/plain": "mnist_conv(\n  (act_fn): ReLU()\n  (layers1): Sequential(\n    (0): Conv2d(1, 64, kernel_size=(5, 5), stride=(1, 1))\n    (1): MaxPool2d(kernel_size=2, stride=2, padding=0, dilation=1, ceil_mode=False)\n    (2): ReLU()\n    (3): Conv2d(64, 64, kernel_size=(5, 5), stride=(1, 1))\n    (4): MaxPool2d(kernel_size=2, stride=2, padding=0, dilation=1, ceil_mode=False)\n    (5): ReLU()\n    (6): Flatten(start_dim=1, end_dim=-1)\n  )\n  (layers2): Sequential(\n    (0): Linear(in_features=1024, out_features=128, bias=True)\n    (1): ReLU()\n    (2): Linear(in_features=128, out_features=10, bias=True)\n  )\n)"
     },
     "execution_count": 64,
     "metadata": {},
     "output_type": "execute_result"
    }
   ],
   "source": [
    "\n"
   ],
   "metadata": {
    "collapsed": false,
    "ExecuteTime": {
     "end_time": "2024-01-02T17:24:06.868326Z",
     "start_time": "2024-01-02T17:24:06.863538Z"
    }
   },
   "id": "fb4a35cca61cd663",
   "execution_count": 64
  },
  {
   "cell_type": "code",
   "outputs": [
    {
     "name": "stdout",
     "output_type": "stream",
     "text": [
      "--------------------------------------------------\n",
      "Test Accuracy: 0.9072\n"
     ]
    },
    {
     "data": {
      "text/plain": "{'acc': 0.9072, 'loss': 2.9870474338531494}"
     },
     "execution_count": 67,
     "metadata": {},
     "output_type": "execute_result"
    }
   ],
   "source": [],
   "metadata": {
    "collapsed": false,
    "ExecuteTime": {
     "end_time": "2024-01-02T17:27:20.064114Z",
     "start_time": "2024-01-02T17:27:18.465221Z"
    }
   },
   "id": "bfcff905e94be802",
   "execution_count": 67
  }
 ],
 "metadata": {
  "kernelspec": {
   "display_name": "Python 3",
   "language": "python",
   "name": "python3"
  },
  "language_info": {
   "codemirror_mode": {
    "name": "ipython",
    "version": 3
   },
   "file_extension": ".py",
   "mimetype": "text/x-python",
   "name": "python",
   "nbconvert_exporter": "python",
   "pygments_lexer": "ipython3",
   "version": "3.7.3"
  }
 },
 "nbformat": 4,
 "nbformat_minor": 5
}
