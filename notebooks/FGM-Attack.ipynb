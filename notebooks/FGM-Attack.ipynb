{
 "cells": [
  {
   "cell_type": "code",
   "execution_count": 1,
   "id": "initial_id",
   "metadata": {
    "collapsed": true,
    "ExecuteTime": {
     "end_time": "2024-01-09T10:16:16.947716Z",
     "start_time": "2024-01-09T10:16:15.574318Z"
    }
   },
   "outputs": [],
   "source": [
    "# Various torch packages\n",
    "import torch\n",
    "import torch.nn as nn\n",
    "import torch.nn.functional as F\n",
    "\n",
    "# torchvision\n",
    "from torchvision import datasets, transforms\n",
    "\n",
    "# ------------------------\n",
    "# get up one directory \n",
    "import sys, os\n",
    "sys.path.append(os.path.abspath('../'))\n",
    "# ------------------------\n",
    "\n",
    "# custom packages\n",
    "import matplotlib.pyplot as plt\n",
    "import models.aux_funs as maf\n",
    "import optimizers as op\n",
    "import regularizers as reg\n",
    "import train\n",
    "import math\n",
    "import utils.configuration as cf\n",
    "import utils.datasets as ud\n",
    "from models.mnist_conv import mnist_conv"
   ]
  },
  {
   "cell_type": "markdown",
   "source": [
    "# Fix the random seed"
   ],
   "metadata": {
    "collapsed": false
   },
   "id": "5d6564382bc1d7c5"
  },
  {
   "cell_type": "code",
   "outputs": [],
   "source": [
    "random_seed = 2\n",
    "cf.seed_torch(random_seed)"
   ],
   "metadata": {
    "collapsed": false,
    "ExecuteTime": {
     "end_time": "2024-01-09T10:16:18.585446Z",
     "start_time": "2024-01-09T10:16:18.581628Z"
    }
   },
   "id": "7c8b7cf7342bd2e5",
   "execution_count": 2
  },
  {
   "cell_type": "markdown",
   "source": [
    "# Configure the expirement"
   ],
   "metadata": {
    "collapsed": false
   },
   "id": "9d03849b632d66e8"
  },
  {
   "cell_type": "code",
   "outputs": [],
   "source": [
    "weights_path = '../checkpoints/mnist_conv_sparse_linbreg.pth'\n",
    "\n",
    "conf_args = {#\n",
    "    # data specification\n",
    "    'data_file':\"../../Data\",'train_split':0.95, 'data_set':\"Fashion-MNIST\", 'download':True,\n",
    "    # cuda\n",
    "    'use_cuda':False, 'num_workers':0, 'cuda_device':0, 'pin_memory':True,\n",
    "    #\n",
    "    'epochs':100,\n",
    "    # optimizer\n",
    "    'delta':1.0, 'lr':0.07, 'lamda_0':0.4, 'lamda_1':0.4, 'optim':\"AdaBreg\", 'conv_group':True,\n",
    "    'beta':0.0,\n",
    "    # initialization\n",
    "    'sparse_init':0.01, 'r':[1,1,1],\n",
    "    # misc\n",
    "    'random_seed':random_seed, 'eval_acc':True,\n",
    "}\n",
    "\n",
    "conf = cf.Conf(**conf_args)"
   ],
   "metadata": {
    "collapsed": false,
    "ExecuteTime": {
     "end_time": "2024-01-09T10:16:58.793472Z",
     "start_time": "2024-01-09T10:16:58.786630Z"
    }
   },
   "id": "e85149248594b363",
   "execution_count": 6
  },
  {
   "cell_type": "markdown",
   "source": [
    "# Initiate model"
   ],
   "metadata": {
    "collapsed": false
   },
   "id": "4a858eaf9a94a98b"
  },
  {
   "cell_type": "code",
   "outputs": [],
   "source": [
    "model_kwargs = {'mean':conf.data_set_mean, 'std':conf.data_set_std}    \n",
    "\n",
    "model = mnist_conv(**model_kwargs)"
   ],
   "metadata": {
    "collapsed": false,
    "ExecuteTime": {
     "end_time": "2024-01-09T10:17:40.277305Z",
     "start_time": "2024-01-09T10:17:40.273407Z"
    }
   },
   "id": "39b9a09a18024f11",
   "execution_count": 9
  },
  {
   "cell_type": "markdown",
   "source": [
    "# Load model weights"
   ],
   "metadata": {
    "collapsed": false
   },
   "id": "387de92edcc89be6"
  },
  {
   "cell_type": "code",
   "outputs": [],
   "source": [
    "model_weights = torch.load(weights_path)\n",
    "\n",
    "# Apply the weights\n",
    "model.load_state_dict(model_weights)\n",
    "model = model.to(conf.device)"
   ],
   "metadata": {
    "collapsed": false,
    "ExecuteTime": {
     "end_time": "2024-01-09T10:17:41.237034Z",
     "start_time": "2024-01-09T10:17:41.227542Z"
    }
   },
   "id": "40a31784a2d47495",
   "execution_count": 10
  },
  {
   "cell_type": "markdown",
   "source": [
    "# Dataset"
   ],
   "metadata": {
    "collapsed": false
   },
   "id": "af4189bc3d9fe2ed"
  },
  {
   "cell_type": "code",
   "outputs": [],
   "source": [
    "train_loader, valid_loader, test_loader = ud.get_data_set(conf)"
   ],
   "metadata": {
    "collapsed": false,
    "ExecuteTime": {
     "end_time": "2024-01-09T10:20:54.720795Z",
     "start_time": "2024-01-09T10:20:54.682920Z"
    }
   },
   "id": "23394f070beb067f",
   "execution_count": 13
  },
  {
   "cell_type": "markdown",
   "source": [
    "# Show the model works"
   ],
   "metadata": {
    "collapsed": false
   },
   "id": "50428ae03114180b"
  },
  {
   "cell_type": "code",
   "outputs": [
    {
     "name": "stdout",
     "output_type": "stream",
     "text": [
      "--------------------------------------------------\n",
      "Test Accuracy: 0.8602\n"
     ]
    },
    {
     "data": {
      "text/plain": "{'acc': 0.8602, 'loss': 3.965606987476349}"
     },
     "execution_count": 14,
     "metadata": {},
     "output_type": "execute_result"
    }
   ],
   "source": [
    "model.eval()\n",
    "\n",
    "train.test(conf, model, test_loader)"
   ],
   "metadata": {
    "collapsed": false,
    "ExecuteTime": {
     "end_time": "2024-01-09T10:20:57.746709Z",
     "start_time": "2024-01-09T10:20:55.979131Z"
    }
   },
   "id": "818fa6bc941ea260",
   "execution_count": 14
  },
  {
   "cell_type": "markdown",
   "source": [
    "# Attack the Model"
   ],
   "metadata": {
    "collapsed": false
   },
   "id": "af904133701dae04"
  }
 ],
 "metadata": {
  "kernelspec": {
   "display_name": "Python 3",
   "language": "python",
   "name": "python3"
  },
  "language_info": {
   "codemirror_mode": {
    "name": "ipython",
    "version": 2
   },
   "file_extension": ".py",
   "mimetype": "text/x-python",
   "name": "python",
   "nbconvert_exporter": "python",
   "pygments_lexer": "ipython2",
   "version": "2.7.6"
  }
 },
 "nbformat": 4,
 "nbformat_minor": 5
}
