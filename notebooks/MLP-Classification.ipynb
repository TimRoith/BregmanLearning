{
 "cells": [
  {
   "cell_type": "code",
   "execution_count": null,
   "id": "7bb3caf1",
   "metadata": {},
   "outputs": [],
   "source": [
    "# Various torch packages\n",
    "import torch\n",
    "import torch.nn as nn\n",
    "import torch.nn.functional as F\n",
    "\n",
    "# torchvision\n",
    "from torchvision import datasets, transforms\n",
    "\n",
    "# ------------------------\n",
    "# get up one directory \n",
    "import sys, os\n",
    "sys.path.append(os.path.abspath('../'))\n",
    "# ------------------------\n",
    "\n",
    "# custom packages\n",
    "import models.aux_funs as maf\n",
    "import optimizers as op\n",
    "import regularizers as reg\n",
    "import train\n",
    "import math\n",
    "import utils.configuration as cf\n",
    "import utils.datasets as ud\n",
    "from models.fully_connected import fully_connected"
   ]
  },
  {
   "cell_type": "markdown",
   "id": "1bc1ce83",
   "metadata": {},
   "source": [
    "# Fix the random seed"
   ]
  },
  {
   "cell_type": "code",
   "execution_count": null,
   "id": "2db27eff",
   "metadata": {},
   "outputs": [],
   "source": [
    "random_seed = 2\n",
    "cf.seed_torch(random_seed)"
   ]
  },
  {
   "cell_type": "markdown",
   "id": "d5aebc6f",
   "metadata": {},
   "source": [
    "# Configure the experiment"
   ]
  },
  {
   "cell_type": "code",
   "execution_count": null,
   "id": "ba3dcac0",
   "metadata": {},
   "outputs": [],
   "source": [
    "sparse_init = 0.01\n",
    "r = [1,0.7/math.sqrt(sparse_init)]\n",
    "\n",
    "conf_args = {#\n",
    "    # data specification\n",
    "    'data_file':\"../../Data\", 'train_split':0.95, 'data_set':\"MNIST\", 'download':False,\n",
    "    # cuda\n",
    "    'use_cuda':True, 'num_workers':4, 'cuda_device':0, 'pin_memory':True, 'train_split':0.95,\n",
    "    #\n",
    "    'epochs':30,\n",
    "    # optimizer\n",
    "    'delta':1.0, 'lr':0.1, 'lamda':1e-3, 'optim':\"LinBreg\",'beta':0.0,\n",
    "    # initialization\n",
    "    'sparse_init':sparse_init, 'r':r,\n",
    "    # misc\n",
    "    'random_seed':random_seed, 'eval_acc':True,\n",
    "}\n",
    "\n",
    "conf = cf.Conf(**conf_args)"
   ]
  },
  {
   "cell_type": "markdown",
   "id": "17174855",
   "metadata": {},
   "source": [
    "# Initiate the model"
   ]
  },
  {
   "cell_type": "code",
   "execution_count": null,
   "id": "dbfa6692",
   "metadata": {},
   "outputs": [],
   "source": [
    "model_kwargs = {'mean':conf.data_set_mean, 'std':conf.data_set_std}    \n",
    "\n",
    "sizes = [784, 200, 80, 10]\n",
    "act_fun = torch.nn.ReLU()\n",
    "    \n",
    "model = fully_connected(sizes, act_fun, **model_kwargs)\n",
    "best_model = train.best_model(fully_connected(sizes, act_fun, **model_kwargs).to(conf.device))"
   ]
  },
  {
   "cell_type": "markdown",
   "id": "096f66c7",
   "metadata": {},
   "source": [
    "# Weight initialization"
   ]
  },
  {
   "cell_type": "code",
   "execution_count": null,
   "id": "991a91ef",
   "metadata": {},
   "outputs": [],
   "source": [
    "model_kwargs = {'mean':conf.data_set_mean, 'std':conf.data_set_std}    \n",
    "def init_weights(conf, model):\n",
    "    # sparsify\n",
    "    maf.sparse_bias_uniform_(model, 0,conf.r[0])\n",
    "    maf.sparse_weight_normal_(model, conf.r[1])\n",
    "    \n",
    "    maf.sparsify_(model, conf.sparse_init)\n",
    "    model = model.to(conf.device)\n",
    "    return model\n",
    "\n",
    "model = init_weights(conf,model)"
   ]
  },
  {
   "cell_type": "markdown",
   "id": "2e96961d",
   "metadata": {},
   "source": [
    "# Optimizer"
   ]
  },
  {
   "cell_type": "code",
   "execution_count": null,
   "id": "980c3413",
   "metadata": {},
   "outputs": [],
   "source": [
    "def init_opt(conf, model):\n",
    "    weights_linear = maf.get_weights_linear(model)\n",
    "    biases = maf.get_bias(model)\n",
    "\n",
    "    if conf.optim == \"SGD\":\n",
    "        opt = torch.optim.SGD(model.parameters(), lr=conf.lr, momentum=conf.beta)\n",
    "    elif conf.optim == \"LinBreg\":\n",
    "        opt = op.LinBreg([{'params': weights_linear, 'lr' : conf.lr, 'reg' : reg.reg_l1(lamda=conf.lamda), 'momentum':conf.beta, 'delta':conf.delta},\n",
    "                          {'params': biases, 'lr': conf.lr, 'momentum':conf.beta}])\n",
    "    elif conf.optim == \"adam\":\n",
    "        opt = op.AdaBreg([{'params': weights_linear, 'lr' : conf.lr, 'reg' : reg.reg_l1(lamda=conf.lamda)},\n",
    "                          {'params': biases, 'lr': conf.lr}])\n",
    "    elif conf.optim == \"ProxSGD\":\n",
    "        opt = op.ProxSGD([{'params': weights_linear, 'lr' : conf.lr, 'reg' : reg.reg_l1(lamda=conf.lamda)},\n",
    "                          {'params': biases, 'lr': conf.lr}])\n",
    "    else:\n",
    "        raise ValueError(\"Unknown Optimizer specified\")\n",
    "\n",
    "    # learning rate scheduler\n",
    "    scheduler = torch.optim.lr_scheduler.ReduceLROnPlateau(opt, factor=0.5, patience=5,threshold=0.01)\n",
    "    \n",
    "    return opt, scheduler"
   ]
  },
  {
   "cell_type": "markdown",
   "id": "dff6e6da",
   "metadata": {},
   "source": [
    "# Dataset"
   ]
  },
  {
   "cell_type": "code",
   "execution_count": null,
   "id": "7617e6bc",
   "metadata": {},
   "outputs": [],
   "source": [
    "train_loader, valid_loader, test_loader = ud.get_data_set(conf)"
   ]
  },
  {
   "cell_type": "markdown",
   "id": "29aed2e9",
   "metadata": {},
   "source": [
    "# History and Runs"
   ]
  },
  {
   "cell_type": "code",
   "execution_count": null,
   "id": "0c0124dc",
   "metadata": {},
   "outputs": [],
   "source": [
    "# Initialize history\n",
    "tracked = ['acc', 'loss', 'linear_sparse', 'reg_vals']\n",
    "\n",
    "def reset_hist(tracked):\n",
    "    train_hist = {}\n",
    "    val_hist = {}\n",
    "    return train_hist, val_hist\n",
    "\n",
    "# Initialize runs\n",
    "params = [\n",
    "    # LinBreg Runs\n",
    "    {'optim': 'LinBreg','reps':2, 'lamda': 1e-3, 'random_seed':0, 'label':'LinBreg ($\\lambda=1$e-3)'}, # LinBreg, lamda:1e-3\n",
    "    {'optim': 'LinBreg','reps':2, 'lamda': 1e-1, 'random_seed':0, 'label':'LinBreg ($\\lambda=1$e-1)'}, # LinBreg, lamda:1e-1\n",
    "    # SGD Runs (Equivalent to LinBreg with lamda = 0.0)\n",
    "    {'optim': 'LinBreg','reps':2, 'lamda': 0.0, 'random_seed':0, 'label':'SGD'}, # SGD\n",
    "    # ProxGD Runs\n",
    "    {'optim': 'ProxSGD','reps':2, 'lamda': 1e-4, 'random_seed':0, 'label':'ProxSDG ($\\lambda=1$e-4)'}, # ProxSGD, lamda:1e-4\n",
    "]\n",
    "\n",
    "runs = cf.run(params)"
   ]
  },
  {
   "cell_type": "markdown",
   "id": "d1bf1e65",
   "metadata": {},
   "source": [
    "# Training"
   ]
  },
  {
   "cell_type": "code",
   "execution_count": null,
   "id": "49686c02",
   "metadata": {
    "scrolled": true
   },
   "outputs": [],
   "source": [
    "while runs.step(conf):\n",
    "    # -----------------------------------------------------------------------------------\n",
    "    # Reinit weigts and the corresponding optimizer\n",
    "    # -----------------------------------------------------------------------------------\n",
    "    train_hist, val_hist = reset_hist(tracked)\n",
    "    model = init_weights(conf, model)\n",
    "    opt, scheduler = init_opt(conf, model)\n",
    "    \n",
    "    # -----------------------------------------------------------------------------------\n",
    "    # train the model\n",
    "    # -----------------------------------------------------------------------------------\n",
    "    for epoch in range(conf.epochs):\n",
    "        print(25*\"<>\")\n",
    "        print(50*\"|\")\n",
    "        print(25*\"<>\")\n",
    "        print('Epoch:', epoch)\n",
    "\n",
    "        # ------------------------------------------------------------------------\n",
    "        # train step, log the accuracy and loss\n",
    "        # ------------------------------------------------------------------------\n",
    "        train_data = train.train_step(conf, model, opt, train_loader)\n",
    "\n",
    "        # update history\n",
    "        for key in tracked:\n",
    "            if key in train_data:\n",
    "                var_list = train_hist.setdefault(key, [])\n",
    "                var_list.append(train_data[key])        \n",
    "\n",
    "        # ------------------------------------------------------------------------\n",
    "        # validation step\n",
    "        val_data = train.validation_step(conf, model, opt, valid_loader)\n",
    "\n",
    "        # update history\n",
    "        for key in tracked:\n",
    "            \n",
    "            \n",
    "            if key in val_data:\n",
    "                var = val_data[key]\n",
    "                if isinstance(var, list):\n",
    "                    for i, var_loc in enumerate(var):\n",
    "                        key_loc = key+\"_\" + str(i)\n",
    "                        var_list = val_hist.setdefault(key_loc, [])\n",
    "                        val_hist[key_loc].append(var_loc)\n",
    "                else:\n",
    "                    var_list = val_hist.setdefault(key, [])\n",
    "                    var_list.append(var)    \n",
    "\n",
    "        # scheduler step\n",
    "        scheduler.step(train_data['loss'])\n",
    "        print(\"Learning rate:\",opt.param_groups[0]['lr'])\n",
    "        \n",
    "        # update beset model\n",
    "        best_model(train_data['acc'], val_data['acc'], model=model)\n",
    "\n",
    "        \n",
    "    # add values to the run history\n",
    "    runs.add_history(train_hist, \"train\")\n",
    "    runs.add_history(val_hist, \"val\")\n",
    "            \n",
    "    # update random seed\n",
    "    cf.seed_torch(conf.random_seed)"
   ]
  },
  {
   "cell_type": "markdown",
   "id": "26b06121",
   "metadata": {},
   "source": [
    "# Prepare Data\n",
    "In this step we average over different runs of the same parameter configuration."
   ]
  },
  {
   "cell_type": "code",
   "execution_count": null,
   "id": "7d610069",
   "metadata": {
    "scrolled": true
   },
   "outputs": [],
   "source": [
    "import numpy as np\n",
    "\n",
    "hist = runs.history\n",
    "keys = ['train_acc','val_acc','val_reg_vals_0','val_linear_sparse']\n",
    "\n",
    "\n",
    "hist_idx = 0\n",
    "for param in params:\n",
    "    data = {}\n",
    "    for key in keys:\n",
    "        if not key in hist[hist_idx]:\n",
    "            continue\n",
    "        \n",
    "        if key == 'train_acc' or key == 'val_acc' or key == 'val_linear_sparse':\n",
    "            rescale = 100\n",
    "        else:\n",
    "            rescale = 1/param['lamda'] if param['lamda'] > 0.0 else 0.0\n",
    "            \n",
    "        n = len(hist[hist_idx][key])\n",
    "        m = param.get('reps',1)\n",
    "        data_loc = np.zeros(shape=(n,m))\n",
    "        \n",
    "        # assign data and save it into local array for mean and average\n",
    "        for i in range(m):\n",
    "            var = np.array(hist[hist_idx + i][key])\n",
    "            data_loc[:,i] = rescale*var\n",
    "            data[key+\"_run_\" + str(i)] = rescale*var\n",
    "\n",
    "        # mean and std of the data\n",
    "        data[key+\"_mean\"] = np.mean(data_loc,axis=1)\n",
    "        data[key+\"_std\"] = np.std(data_loc,axis=1)\n",
    "        \n",
    "        param['result'] = data\n",
    "        \n",
    "        # update the history index\n",
    "    hist_idx += m"
   ]
  },
  {
   "cell_type": "markdown",
   "id": "869ca35c",
   "metadata": {},
   "source": [
    "# Setup plots and appearance"
   ]
  },
  {
   "cell_type": "code",
   "execution_count": null,
   "id": "964a7112",
   "metadata": {},
   "outputs": [],
   "source": [
    "import matplotlib\n",
    "import matplotlib.pyplot as plt\n",
    "\n",
    "plt.style.use('default')\n",
    "plt.style.use('ggplot')\n",
    "matplotlib.rcParams['mathtext.fontset'] = 'cm'\n",
    "matplotlib.rcParams['font.family'] = 'STIXGeneral'\n",
    "matplotlib.rcParams['font.size']=8\n",
    "matplotlib.rcParams['lines.linewidth'] = 1\n",
    "matplotlib.rcParams['lines.markersize'] = 2\n",
    "matplotlib.rcParams['text.color'] = 'black'"
   ]
  },
  {
   "cell_type": "code",
   "execution_count": null,
   "id": "5302ab61",
   "metadata": {},
   "outputs": [],
   "source": [
    "def plot_training_stats(ax, keys, data, label='', color='k',alpha=1.0, alpha_fill=0.2):\n",
    "    for i in range(len(keys)):\n",
    "        if not (keys[i]+'_mean') in data:\n",
    "            continue\n",
    "        # --------------------------------\n",
    "        var_mean = data[keys[i]+'_mean']\n",
    "        var_std = data[keys[i]+'_std']\n",
    "        # --------------------------------\n",
    "        epochs = np.arange(len(var_mean))\n",
    "        ax[i].plot(epochs,var_mean, label=label, color=color,alpha=alpha)\n",
    "        ax[i].fill_between(epochs, var_mean - var_std, var_mean + var_std, color=color, alpha=alpha_fill)"
   ]
  },
  {
   "cell_type": "markdown",
   "id": "0596d53c",
   "metadata": {},
   "source": [
    "# Colors"
   ]
  },
  {
   "cell_type": "code",
   "execution_count": null,
   "id": "dbe8cc69",
   "metadata": {},
   "outputs": [],
   "source": [
    "cmp = matplotlib.cm.get_cmap(name='Accent')\n",
    "colors = [\n",
    "    cmp(0.7), #\n",
    "    cmp(0.4), #\n",
    "    cmp(0.0), #\n",
    "    cmp(0.2), #\n",
    "    cmp(0.8), #\n",
    "    cmp(0.8), #\n",
    "    cmp(0.3), #\n",
    "]\n",
    "\n",
    "for i, param in enumerate(params):\n",
    "    param['color'] = colors[i]\n",
    "    param.setdefault('label', param['optim'])"
   ]
  },
  {
   "cell_type": "markdown",
   "id": "17606bf4",
   "metadata": {},
   "source": [
    "# Final Plot"
   ]
  },
  {
   "cell_type": "code",
   "execution_count": null,
   "id": "01240bac",
   "metadata": {},
   "outputs": [],
   "source": [
    "fig, ax = plt.subplots(2,2)\n",
    "ax = np.ravel(ax)\n",
    "\n",
    "for param in params:\n",
    "    plot_training_stats(ax, keys, param['result'], color = param['color'], label = param['label'])\n",
    "\n",
    "# Specify axes\n",
    "## Train Acc\n",
    "ax[0].set_ylabel('Train Accuracy [%]')\n",
    "ax[0].set_xlabel('Epoch')\n",
    "ax[0].set_ylim(85, 101)\n",
    "## Validation Acc\n",
    "ax[1].set_ylabel('Validation Accuracy [%]')\n",
    "ax[1].set_xlabel('Epoch')\n",
    "## L1-Norm\n",
    "ax[2].set_ylabel('$\\ell_1$-Norm')\n",
    "ax[2].set_xlabel('Epoch')\n",
    "## Sparsity\n",
    "ax[3].set_ylabel('Non-Zero Entries [%]')\n",
    "ax[3].set_xlabel('Epoch');\n",
    "\n",
    "# Legend\n",
    "handles, labels = ax[0].get_legend_handles_labels()\n",
    "ax[0].legend(handles, labels, loc='best',frameon=1,prop={'size': 7}, ncol = 1)\n",
    "\n",
    "# Adjust size\n",
    "width = 5.50107/0.8\n",
    "height = 8.02778/(2.0)\n",
    "fig.set_size_inches(width, height)"
   ]
  }
 ],
 "metadata": {
  "kernelspec": {
   "display_name": "Python 3.9",
   "language": "python",
   "name": "python3"
  },
  "language_info": {
   "codemirror_mode": {
    "name": "ipython",
    "version": 3
   },
   "file_extension": ".py",
   "mimetype": "text/x-python",
   "name": "python",
   "nbconvert_exporter": "python",
   "pygments_lexer": "ipython3",
   "version": "3.9.16"
  }
 },
 "nbformat": 4,
 "nbformat_minor": 5
}
